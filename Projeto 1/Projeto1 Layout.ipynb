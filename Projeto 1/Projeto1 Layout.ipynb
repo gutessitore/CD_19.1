{
 "cells": [
  {
   "cell_type": "markdown",
   "metadata": {},
   "source": [
    "___\n",
    "# Ciência dos Dados - PROJETO 1"
   ]
  },
  {
   "cell_type": "markdown",
   "metadata": {},
   "source": [
    "## Gustavo Schlieper e Giovanni Pertence\n",
    "___"
   ]
  },
  {
   "cell_type": "markdown",
   "metadata": {},
   "source": [
    "## Perfil dos brasileiros economicamente ativos"
   ]
  },
  {
   "cell_type": "markdown",
   "metadata": {},
   "source": [
    "___\n",
    "## Introdução\n",
    "\n",
    "Neste Projeto criaremos os perfis de brasileiros economicamente ativos em 2011 e 2015. Para isso utilizaremos as seguintes variáveis:\n",
    "\n",
    "    -Sexo(V0302);\n",
    "    -Idade do morador na data de referência(V8005);\n",
    "    -Condição de atividade na semana de referência para pessoas de 10 anos ou mais de idade(V4704);\n",
    "    -Grupamentos de atividade principal do empreendimento do trabalho principal da semana de referência para pessoas de 10 anos ou mais de idade(V4809);\n",
    "    -Horas habitualmente trabalhadas por semana em todos os trabalhos da semana de referência para pessoas de 10 anos ou mais de idade(V4707);\n",
    "    -Rendimento mensal do trabalho principal para pessoas de 10 anos ou mais de idade(V4718);\n",
    "    -Tipo de família para todas as unidades domiciliares (em todos os tipos de família podem existir pessoas cuja condição na família era outro parente, agregado, pensionista, empregado doméstico ou parente do empregado doméstico)(V4723);\n",
    "    -Nível de instrução mais elevado alcançado (todas as pessoas)(V4745).\n",
    "\n",
    "\n",
    "\n",
    "Capriche no português!! \n",
    "Se quiser pode utilizar pesquisas semelhantes publicadas em sites confiáveis!!\n"
   ]
  },
  {
   "cell_type": "markdown",
   "metadata": {},
   "source": [
    "___\n",
    "## Filtros da base de dados"
   ]
  },
  {
   "cell_type": "code",
   "execution_count": 29,
   "metadata": {},
   "outputs": [],
   "source": [
    "%matplotlib inline\n",
    "import pandas as pd\n",
    "import matplotlib.pyplot as plt\n",
    "import numpy as np\n",
    "import os"
   ]
  },
  {
   "cell_type": "code",
   "execution_count": 30,
   "metadata": {},
   "outputs": [
    {
     "name": "stdout",
     "output_type": "stream",
     "text": [
      "Esperamos trabalhar no diretório\n",
      "C:\\Users\\gugat\\Desktop\\Insper DS 2018.1\\2.1 semestre\\Dados\\Projeto 1\\CD_19.1\n"
     ]
    }
   ],
   "source": [
    "print('Esperamos trabalhar no diretório')\n",
    "print(os.getcwd())"
   ]
  },
  {
   "cell_type": "code",
   "execution_count": 34,
   "metadata": {},
   "outputs": [],
   "source": [
    "#Leitura dos dados\n",
    "dados = pd.read_csv('PES2015.csv',sep=',')\n",
    "\n",
    "#Filtrando variáveis\n",
    "Dados_Filtrado = dados.loc[(dados.V0302)|(dados.V8005)|(dados.V4704)|(dados.V4809)|(dados.V4707)|(dados.V4718)|(dados.V4723)|\\\n",
    "                           (dados.V4745) , ['V0302','V8005','V4704','V4809','V4707','V4718','V4723','V4745']]\n",
    "\n",
    "#Trocando o nome das colunas\n",
    "Dados_Filtrado.rename(columns={'V0302':'Sexo','V8005':'Idade','V4704':'Condição de atividade',\\\n",
    "                               'V4809':'Atividade principal','V4707':'Horas habitualmente trabalhadas por semana',\\\n",
    "                             'V4718':'Rendimento mensal','V4723':'Tipo de família','V4745':'Nível de instrução' },inplace=True)\n",
    "\n",
    "#Definindo as variáveis qualitativas como categóricas\n",
    "Dados_Filtrado.Sexo = Dados_Filtrado.Sexo.astype('category')\n",
    "Dados_Filtrado['Condição de atividade'] = Dados_Filtrado['Condição de atividade'].astype('category')\n",
    "Dados_Filtrado['Atividade principal'] = Dados_Filtrado['Atividade principal'].astype('category')\n",
    "Dados_Filtrado['Horas habitualmente trabalhadas por semana'] = Dados_Filtrado['Horas habitualmente trabalhadas por semana']\\\n",
    ".astype('category')\n",
    "Dados_Filtrado['Tipo de família'] = Dados_Filtrado['Tipo de família'].astype('category')\n",
    "Dados_Filtrado['Nível de instrução'] = Dados_Filtrado['Nível de instrução'].astype('category')\n",
    "Dados_Filtrado['Rendimento mensal'] = Dados_Filtrado['Rendimento mensal'].astype('float')\n"
   ]
  },
  {
   "cell_type": "code",
   "execution_count": 40,
   "metadata": {},
   "outputs": [
    {
     "data": {
      "text/plain": [
       "0          800.0\n",
       "1         1150.0\n",
       "2          880.0\n",
       "3         3000.0\n",
       "4            NaN\n",
       "5            NaN\n",
       "6            NaN\n",
       "7          880.0\n",
       "8         3500.0\n",
       "9            NaN\n",
       "10           NaN\n",
       "11         150.0\n",
       "12           NaN\n",
       "13           NaN\n",
       "14        4000.0\n",
       "15           NaN\n",
       "16         790.0\n",
       "17        2000.0\n",
       "18         930.0\n",
       "19           NaN\n",
       "20           NaN\n",
       "21        3150.0\n",
       "22        2000.0\n",
       "23           NaN\n",
       "24        1700.0\n",
       "25        1800.0\n",
       "26        1000.0\n",
       "27        1150.0\n",
       "28         850.0\n",
       "29           NaN\n",
       "           ...  \n",
       "356874     160.0\n",
       "356875       NaN\n",
       "356876     800.0\n",
       "356877       NaN\n",
       "356878       NaN\n",
       "356879       NaN\n",
       "356880     812.0\n",
       "356881    1500.0\n",
       "356882       NaN\n",
       "356883       NaN\n",
       "356884       NaN\n",
       "356885    1300.0\n",
       "356886    1100.0\n",
       "356887       NaN\n",
       "356888       NaN\n",
       "356889       NaN\n",
       "356890       NaN\n",
       "356891       NaN\n",
       "356892       NaN\n",
       "356893       NaN\n",
       "356894       NaN\n",
       "356895     800.0\n",
       "356896     788.0\n",
       "356897    1500.0\n",
       "356898       NaN\n",
       "356899     900.0\n",
       "356900       NaN\n",
       "356901     300.0\n",
       "356902       NaN\n",
       "356903       NaN\n",
       "Name: Rendimento mensal, Length: 356904, dtype: float64"
      ]
     },
     "execution_count": 40,
     "metadata": {},
     "output_type": "execute_result"
    }
   ],
   "source": [
    "\n",
    "Dados_Filtrado.Sexo.cat.categories = (['M','F'])\n",
    "Dados_Filtrado['Condição de atividade'].cat.categories = (['Economicamente ativas','Não economicamente ativas'])\n",
    "Dados_Filtrado['Atividade principal'].cat.categories = (['Agrícola','Outras atividades industriais','Indústria de transformação\\\n",
    "','Construção','Comércio e reparação','Alojamento e alimentação','Transporte, armazenagem e comunicação','Administração pública\\\n",
    "','Educação, saúde e serviços sociais','Serviços domésticos','Outros serviços coletivos, sociais e pessoais','Outras atividades\\\n",
    "','Atividades maldefinidas '])\n",
    "Dados_Filtrado['Horas habitualmente trabalhadas por semana'].cat.categories = (['Até 14 horas','15 a 39 horas','40 a 44 horas'\\\n",
    ",'45 a 48 horas','49 horas ou mais'])\n",
    "Dados_Filtrado['Tipo de família'].cat.categories = (['Casal sem filhos','Casal com todos os filhos menores de 14 anos',\\\n",
    "'Casal com todos os filhos de 14 anos ou mais','Casal com filhos menores de 14 anos e de 14 anos ou mais','Mãe com todos os \\\n",
    "filhos menores de 14 anos','Mãe com todos os filhos de 14 anos ou mais','Mãe com filhos menores de 14 anos e de 14 anos ou mais\\\n",
    "','Outros tipos de família'])\n",
    "Dados_Filtrado['Nível de instrução'].cat.categories = (['Sem instrução','Fundamental incompleto ou equivalente','Fundamental \\\n",
    "completo ou equivalente','Médio incompleto ou equivalente','Médio completo ou equivalente','Superior incompleto ou equivalente'\\\n",
    ",'Superior completo ','Não determinado'])\n",
    "\n"
   ]
  },
  {
   "cell_type": "markdown",
   "metadata": {},
   "source": [
    "___\n",
    "## Análise e Resultados"
   ]
  },
  {
   "cell_type": "code",
   "execution_count": null,
   "metadata": {},
   "outputs": [],
   "source": []
  },
  {
   "cell_type": "code",
   "execution_count": null,
   "metadata": {},
   "outputs": [],
   "source": []
  },
  {
   "cell_type": "markdown",
   "metadata": {},
   "source": [
    "___\n",
    "## Conclusão "
   ]
  },
  {
   "cell_type": "markdown",
   "metadata": {
    "collapsed": true
   },
   "source": [
    "Descreva aqui suas conclusões!"
   ]
  },
  {
   "cell_type": "code",
   "execution_count": null,
   "metadata": {},
   "outputs": [],
   "source": []
  }
 ],
 "metadata": {
  "anaconda-cloud": {},
  "kernelspec": {
   "display_name": "Python 3",
   "language": "python",
   "name": "python3"
  },
  "language_info": {
   "codemirror_mode": {
    "name": "ipython",
    "version": 3
   },
   "file_extension": ".py",
   "mimetype": "text/x-python",
   "name": "python",
   "nbconvert_exporter": "python",
   "pygments_lexer": "ipython3",
   "version": "3.6.4"
  }
 },
 "nbformat": 4,
 "nbformat_minor": 1
}
