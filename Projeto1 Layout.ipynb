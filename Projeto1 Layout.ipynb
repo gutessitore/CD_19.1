{
 "cells": [
  {
   "cell_type": "markdown",
   "metadata": {},
   "source": [
    "___\n",
    "# Ciência dos Dados - PROJETO 1"
   ]
  },
  {
   "cell_type": "markdown",
   "metadata": {},
   "source": [
    "## Gustavo Schlieper e Giovanni Pertence\n",
    "___"
   ]
  },
  {
   "cell_type": "markdown",
   "metadata": {},
   "source": [
    "## Perfil dos brasileiros economicamente ativos"
   ]
  },
  {
   "cell_type": "markdown",
   "metadata": {},
   "source": [
    "___\n",
    "## Introdução\n",
    "\n",
    "Neste Projeto criaremos os perfis de brasileiros economicamente ativos em 2011 e 2015. Para isso utilizaremos as seguintes variáveis:\n",
    "\n",
    "    -Sexo(V0302);\n",
    "    -Idade do morador na data de referência(V8005);\n",
    "    -Condição de atividade na semana de referência para pessoas de 10 anos ou mais de idade(V4704);\n",
    "    -Grupamentos de atividade principal do empreendimento do trabalho principal da semana de referência para pessoas de 10 anos ou mais de idade(V4809);\n",
    "    -Horas habitualmente trabalhadas por semana em todos os trabalhos da semana de referência para pessoas de 10 anos ou mais de idade(V4707);\n",
    "    -Rendimento mensal do trabalho principal para pessoas de 10 anos ou mais de idade(V4718);\n",
    "    -Tipo de família para todas as unidades domiciliares (em todos os tipos de família podem existir pessoas cuja condição na família era outro parente, agregado, pensionista, empregado doméstico ou parente do empregado doméstico)(V4723);\n",
    "    -Nível de instrução mais elevado alcançado (todas as pessoas)(V4745).\n",
    "\n",
    "\n",
    "\n",
    "Capriche no português!! \n",
    "Se quiser pode utilizar pesquisas semelhantes publicadas em sites confiáveis!!\n"
   ]
  },
  {
   "cell_type": "markdown",
   "metadata": {},
   "source": [
    "___\n",
    "## Filtros da base de dados"
   ]
  },
  {
   "cell_type": "code",
   "execution_count": 16,
   "metadata": {},
   "outputs": [],
   "source": [
    "%matplotlib inline\n",
    "import pandas as pd\n",
    "import matplotlib.pyplot as plt\n",
    "import numpy as np\n",
    "import os"
   ]
  },
  {
   "cell_type": "code",
   "execution_count": 17,
   "metadata": {},
   "outputs": [
    {
     "name": "stdout",
     "output_type": "stream",
     "text": [
      "Esperamos trabalhar no diretório\n",
      "C:\\Users\\gugat\\Desktop\\Insper DS 2018.1\\2.1 semestre\\Dados\\Projeto 1\\CD_19.1\n"
     ]
    }
   ],
   "source": [
    "print('Esperamos trabalhar no diretório')\n",
    "print(os.getcwd())"
   ]
  },
  {
   "cell_type": "code",
   "execution_count": 18,
   "metadata": {},
   "outputs": [],
   "source": [
    "#Leitura dos dados\n",
    "dados = pd.read_csv('PES2015.csv',sep=',')\n",
    "\n",
    "#Filtrando variáveis\n",
    "Dados_Filtrado = dados.loc[(dados.V0302)|(dados.V8005)|(dados.V4704)|(dados.V4809)|(dados.V4707)|(dados.V4718)|(dados.V4723)|\\\n",
    "                           (dados.V4745) , ['V0302','V8005','V4704','V4809','V4707','V4718','V4723','V4745']]\n",
    "\n",
    "#Trocando o nome das colunas\n",
    "Dados_Filtrado.rename(columns={'V0302':'Sexo','V8005':'Idade','V4704':'Condição de atividade',\\\n",
    "                               'V4809':'Atividade principal','V4707':'Horas habitualmente trabalhadas por semana',\\\n",
    "                             'V4718':'Rendimento mensal','V4723':'Tipo de família','V4745':'Nível de instrução' },inplace=True)\n",
    "\n",
    "#Definindo as variáveis qualitativas como categóricas\n",
    "Dados_Filtrado.Sexo = Dados_Filtrado.Sexo.astype('category')\n",
    "Dados_Filtrado['Condição de atividade'] = Dados_Filtrado['Condição de atividade'].astype('category')\n",
    "Dados_Filtrado['Atividade principal'] = Dados_Filtrado['Atividade principal'].astype('category')\n",
    "Dados_Filtrado['Tipo de família'] = Dados_Filtrado['Tipo de família'].astype('category')\n",
    "Dados_Filtrado['Nível de instrução'] = Dados_Filtrado['Nível de instrução'].astype('category')\n"
   ]
  },
  {
   "cell_type": "code",
   "execution_count": 27,
   "metadata": {},
   "outputs": [
    {
     "data": {
      "text/plain": [
       "0     8.000000e+02\n",
       "1     1.150000e+03\n",
       "2     8.800000e+02\n",
       "3     3.000000e+03\n",
       "4              NaN\n",
       "5              NaN\n",
       "6              NaN\n",
       "7     8.800000e+02\n",
       "8     3.500000e+03\n",
       "9              NaN\n",
       "10             NaN\n",
       "11    1.500000e+02\n",
       "12             NaN\n",
       "13             NaN\n",
       "14    4.000000e+03\n",
       "15             NaN\n",
       "16    7.900000e+02\n",
       "17    2.000000e+03\n",
       "18    9.300000e+02\n",
       "19             NaN\n",
       "20             NaN\n",
       "21    3.150000e+03\n",
       "22    2.000000e+03\n",
       "23             NaN\n",
       "24    1.700000e+03\n",
       "25    1.800000e+03\n",
       "26    1.000000e+03\n",
       "27    1.150000e+03\n",
       "28    8.500000e+02\n",
       "29             NaN\n",
       "          ...     \n",
       "62    1.050000e+03\n",
       "63             NaN\n",
       "64             NaN\n",
       "65    3.030000e+03\n",
       "66             NaN\n",
       "67    4.000000e+03\n",
       "68    2.000000e+03\n",
       "69             NaN\n",
       "70             NaN\n",
       "71    1.600000e+03\n",
       "72             NaN\n",
       "73             NaN\n",
       "74             NaN\n",
       "75             NaN\n",
       "76             NaN\n",
       "77             NaN\n",
       "78             NaN\n",
       "79             NaN\n",
       "80    7.880000e+02\n",
       "81             NaN\n",
       "82             NaN\n",
       "83             NaN\n",
       "84             NaN\n",
       "85             NaN\n",
       "86             NaN\n",
       "87             NaN\n",
       "88    1.000000e+03\n",
       "89             NaN\n",
       "90    7.880000e+02\n",
       "91    1.000000e+12\n",
       "Name: Rendimento mensal, Length: 92, dtype: float64"
      ]
     },
     "execution_count": 27,
     "metadata": {},
     "output_type": "execute_result"
    }
   ],
   "source": [
    "\n",
    "Dados_Filtrado.Sexo.cat.categories = (['M','F'])\n",
    "Dados_Filtrado['Condição de atividade'].cat.categories = (['Economicamente ativas','Não economicamente ativas'])\n",
    "Dados_Filtrado['Atividade principal'].cat.categories = (['Agrícola','Outras atividades industriais','Indústria de transformação\\\n",
    "','Construção','Comércio e reparação','Alojamento e alimentação','Transporte, armazenagem e comunicação','Administração pública\\\n",
    "','Educação, saúde e serviços sociais','Serviços domésticos','Outros serviços coletivos, sociais e pessoais','Outras atividades\\\n",
    "','Atividades maldefinidas '])\n",
    "Dados_Filtrado['Tipo de família'].cat.categories = (['Casal sem filhos','Casal com todos os filhos menores de 14 anos',\\\n",
    "'Casal com todos os filhos de 14 anos ou mais','Casal com filhos menores de 14 anos e de 14 anos ou mais','Mãe com todos os \\\n",
    "filhos menores de 14 anos','Mãe com todos os filhos de 14 anos ou mais','Mãe com filhos menores de 14 anos e de 14 anos ou mais\\\n",
    "','Outros tipos de família'])\n",
    "Dados_Filtrado['Nível de instrução'].cat.categories = (['Sem instrução','Fundamental incompleto ou equivalente','Fundamental \\\n",
    "completo ou equivalente','Médio incompleto ou equivalente','Médio completo ou equivalente','Superior incompleto ou equivalente'\\\n",
    ",'Superior completo ','Não determinado'])\n",
    "\n",
    "Dados_Filtrado['Rendimento mensal'].head(92)\n"
   ]
  },
  {
   "cell_type": "markdown",
   "metadata": {},
   "source": [
    "___\n",
    "## Análise e Resultados"
   ]
  },
  {
   "cell_type": "code",
   "execution_count": null,
   "metadata": {},
   "outputs": [],
   "source": []
  },
  {
   "cell_type": "code",
   "execution_count": null,
   "metadata": {},
   "outputs": [],
   "source": []
  },
  {
   "cell_type": "markdown",
   "metadata": {},
   "source": [
    "___\n",
    "## Conclusão "
   ]
  },
  {
   "cell_type": "markdown",
   "metadata": {
    "collapsed": true
   },
   "source": [
    "Descreva aqui suas conclusões!"
   ]
  },
  {
   "cell_type": "code",
   "execution_count": null,
   "metadata": {},
   "outputs": [],
   "source": []
  }
 ],
 "metadata": {
  "anaconda-cloud": {},
  "kernelspec": {
   "display_name": "Python 3",
   "language": "python",
   "name": "python3"
  },
  "language_info": {
   "codemirror_mode": {
    "name": "ipython",
    "version": 3
   },
   "file_extension": ".py",
   "mimetype": "text/x-python",
   "name": "python",
   "nbconvert_exporter": "python",
   "pygments_lexer": "ipython3",
   "version": "3.6.4"
  }
 },
 "nbformat": 4,
 "nbformat_minor": 1
}
